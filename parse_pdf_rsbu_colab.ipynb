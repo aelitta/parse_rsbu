{
  "nbformat": 4,
  "nbformat_minor": 0,
  "metadata": {
    "colab": {
      "name": "parse_pdf_rsbu_colab.ipynb",
      "provenance": [],
      "collapsed_sections": [],
      "toc_visible": true,
      "include_colab_link": true
    },
    "kernelspec": {
      "display_name": "Python 3",
      "language": "python",
      "name": "python3"
    },
    "language_info": {
      "codemirror_mode": {
        "name": "ipython",
        "version": 3
      },
      "file_extension": ".py",
      "mimetype": "text/x-python",
      "name": "python",
      "nbconvert_exporter": "python",
      "pygments_lexer": "ipython3",
      "version": "3.8.3"
    }
  },
  "cells": [
    {
      "cell_type": "markdown",
      "metadata": {
        "id": "view-in-github",
        "colab_type": "text"
      },
      "source": [
        "<a href=\"https://colab.research.google.com/github/aelitta/parse_rsbu/blob/main/parse_pdf_rsbu_colab.ipynb\" target=\"_parent\"><img src=\"https://colab.research.google.com/assets/colab-badge.svg\" alt=\"Open In Colab\"/></a>"
      ]
    },
    {
      "cell_type": "code",
      "metadata": {
        "id": "OzhYiCA_7cGW",
        "colab": {
          "base_uri": "https://localhost:8080/"
        },
        "outputId": "a03a4d39-8dc4-4881-c9e8-1085b97af3b0"
      },
      "source": [
        "!apt-get install libmagickwand-dev\n",
        "!apt install imagemagick\n",
        "!sudo apt install tesseract-ocr\n",
        "!pip install pytesseract\n",
        "!sed -i 's/<policy domain=\"coder\" rights=\"none\" pattern=\"PDF\" \\/>/<policy domain=\"coder\" rights=\"read|write\" pattern=\"PDF\" \\/>/g' /etc/ImageMagick-6/policy.xml\n",
        "!sed -i 's/<policy domain=\"resource\" name=\"disk\" value=\"16GB\" \\/>/<policy domain=\"resource\" name=\"disk\" value=\"32GB\" \\/>/g' /etc/ImageMagick-6/policy.xml\n",
        "!sed -i 's/<policy domain=\"resource\" name=\"memory\" value=\"256MiB\" \\//><policy domain=\"resource\" name=\"memory\" value=\"1024MiB\" \\/>/g' /etc/ImageMagick-6/policy.xml\n",
        "!pip install wand\n",
        "!pip install pdfminer.six\n"
      ],
      "execution_count": null,
      "outputs": [
        {
          "output_type": "stream",
          "text": [
            "Reading package lists... Done\n",
            "Building dependency tree       \n",
            "Reading state information... Done\n",
            "The following additional packages will be installed:\n",
            "  fonts-droid-fallback fonts-noto-mono ghostscript gir1.2-freedesktop\n",
            "  gir1.2-gdkpixbuf-2.0 gir1.2-rsvg-2.0 gsfonts imagemagick-6-common\n",
            "  libcairo-script-interpreter2 libcairo2-dev libcupsfilters1 libcupsimage2\n",
            "  libdjvulibre-dev libdjvulibre-text libdjvulibre21 libgdk-pixbuf2.0-dev\n",
            "  libgs9 libgs9-common libijs-0.35 libjbig2dec0 liblcms2-dev liblqr-1-0\n",
            "  liblqr-1-0-dev libmagickcore-6-arch-config libmagickcore-6-headers\n",
            "  libmagickcore-6.q16-3 libmagickcore-6.q16-3-extra libmagickcore-6.q16-dev\n",
            "  libmagickwand-6-headers libmagickwand-6.q16-3 libmagickwand-6.q16-dev\n",
            "  libpixman-1-dev librsvg2-dev libwmf-dev libwmf0.2-7 libxcb-shm0-dev\n",
            "  poppler-data\n",
            "Suggested packages:\n",
            "  fonts-noto ghostscript-x libcairo2-doc inkscape libjxr-tools librsvg2-doc\n",
            "  libwmf-doc libwmf0.2-7-gtk poppler-utils fonts-japanese-mincho\n",
            "  | fonts-ipafont-mincho fonts-japanese-gothic | fonts-ipafont-gothic\n",
            "  fonts-arphic-ukai fonts-arphic-uming fonts-nanum\n",
            "The following NEW packages will be installed:\n",
            "  fonts-droid-fallback fonts-noto-mono ghostscript gir1.2-freedesktop\n",
            "  gir1.2-gdkpixbuf-2.0 gir1.2-rsvg-2.0 gsfonts imagemagick-6-common\n",
            "  libcairo-script-interpreter2 libcairo2-dev libcupsfilters1 libcupsimage2\n",
            "  libdjvulibre-dev libdjvulibre-text libdjvulibre21 libgdk-pixbuf2.0-dev\n",
            "  libgs9 libgs9-common libijs-0.35 libjbig2dec0 liblcms2-dev liblqr-1-0\n",
            "  liblqr-1-0-dev libmagickcore-6-arch-config libmagickcore-6-headers\n",
            "  libmagickcore-6.q16-3 libmagickcore-6.q16-3-extra libmagickcore-6.q16-dev\n",
            "  libmagickwand-6-headers libmagickwand-6.q16-3 libmagickwand-6.q16-dev\n",
            "  libmagickwand-dev libpixman-1-dev librsvg2-dev libwmf-dev libwmf0.2-7\n",
            "  libxcb-shm0-dev poppler-data\n",
            "0 upgraded, 38 newly installed, 0 to remove and 31 not upgraded.\n",
            "Need to get 31.0 MB of archives.\n",
            "After this operation, 91.0 MB of additional disk space will be used.\n",
            "Get:1 http://archive.ubuntu.com/ubuntu bionic/main amd64 fonts-droid-fallback all 1:6.0.1r16-1.1 [1,805 kB]\n",
            "Get:2 http://archive.ubuntu.com/ubuntu bionic-updates/main amd64 imagemagick-6-common all 8:6.9.7.4+dfsg-16ubuntu6.9 [60.0 kB]\n",
            "Get:3 http://archive.ubuntu.com/ubuntu bionic-updates/main amd64 libmagickcore-6-arch-config amd64 8:6.9.7.4+dfsg-16ubuntu6.9 [25.1 kB]\n",
            "Get:4 http://archive.ubuntu.com/ubuntu bionic-updates/main amd64 libmagickcore-6-headers all 8:6.9.7.4+dfsg-16ubuntu6.9 [46.9 kB]\n",
            "Get:5 http://archive.ubuntu.com/ubuntu bionic/main amd64 liblqr-1-0 amd64 0.4.2-2.1 [27.7 kB]\n",
            "Get:6 http://archive.ubuntu.com/ubuntu bionic-updates/main amd64 libmagickcore-6.q16-3 amd64 8:6.9.7.4+dfsg-16ubuntu6.9 [1,616 kB]\n",
            "Get:7 http://archive.ubuntu.com/ubuntu bionic-updates/main amd64 libmagickwand-6-headers all 8:6.9.7.4+dfsg-16ubuntu6.9 [10.5 kB]\n",
            "Get:8 http://archive.ubuntu.com/ubuntu bionic-updates/main amd64 libmagickwand-6.q16-3 amd64 8:6.9.7.4+dfsg-16ubuntu6.9 [293 kB]\n",
            "Get:9 http://archive.ubuntu.com/ubuntu bionic-updates/main amd64 libdjvulibre-text all 3.5.27.1-8ubuntu0.2 [49.3 kB]\n",
            "Get:10 http://archive.ubuntu.com/ubuntu bionic-updates/main amd64 libdjvulibre21 amd64 3.5.27.1-8ubuntu0.2 [560 kB]\n",
            "Get:11 http://archive.ubuntu.com/ubuntu bionic/main amd64 libwmf0.2-7 amd64 0.2.8.4-12 [150 kB]\n",
            "Get:12 http://archive.ubuntu.com/ubuntu bionic-updates/main amd64 libmagickcore-6.q16-3-extra amd64 8:6.9.7.4+dfsg-16ubuntu6.9 [62.3 kB]\n",
            "Get:13 http://archive.ubuntu.com/ubuntu bionic-updates/main amd64 libdjvulibre-dev amd64 3.5.27.1-8ubuntu0.2 [2,381 kB]\n",
            "Get:14 http://archive.ubuntu.com/ubuntu bionic-updates/main amd64 liblcms2-dev amd64 2.9-1ubuntu0.1 [9,096 kB]\n",
            "Get:15 http://archive.ubuntu.com/ubuntu bionic/main amd64 liblqr-1-0-dev amd64 0.4.2-2.1 [69.1 kB]\n",
            "Get:16 http://archive.ubuntu.com/ubuntu bionic/main amd64 gir1.2-freedesktop amd64 1.56.1-1 [9,080 B]\n",
            "Get:17 http://archive.ubuntu.com/ubuntu bionic/main amd64 gir1.2-gdkpixbuf-2.0 amd64 2.36.11-2 [7,748 B]\n",
            "Get:18 http://archive.ubuntu.com/ubuntu bionic-updates/main amd64 gir1.2-rsvg-2.0 amd64 2.40.20-2ubuntu0.2 [3,764 B]\n",
            "Get:19 http://archive.ubuntu.com/ubuntu bionic/main amd64 libgdk-pixbuf2.0-dev amd64 2.36.11-2 [46.8 kB]\n",
            "Get:20 http://archive.ubuntu.com/ubuntu bionic-updates/main amd64 libcairo-script-interpreter2 amd64 1.15.10-2ubuntu0.1 [53.5 kB]\n",
            "Get:21 http://archive.ubuntu.com/ubuntu bionic/main amd64 libpixman-1-dev amd64 0.34.0-2 [244 kB]\n",
            "Get:22 http://archive.ubuntu.com/ubuntu bionic-updates/main amd64 libxcb-shm0-dev amd64 1.13-2~ubuntu18.04 [6,684 B]\n",
            "Get:23 http://archive.ubuntu.com/ubuntu bionic-updates/main amd64 libcairo2-dev amd64 1.15.10-2ubuntu0.1 [626 kB]\n",
            "Get:24 http://archive.ubuntu.com/ubuntu bionic-updates/main amd64 librsvg2-dev amd64 2.40.20-2ubuntu0.2 [10.7 kB]\n",
            "Get:25 http://archive.ubuntu.com/ubuntu bionic/main amd64 libwmf-dev amd64 0.2.8.4-12 [172 kB]\n",
            "Get:26 http://archive.ubuntu.com/ubuntu bionic-updates/main amd64 libmagickcore-6.q16-dev amd64 8:6.9.7.4+dfsg-16ubuntu6.9 [970 kB]\n",
            "Get:27 http://archive.ubuntu.com/ubuntu bionic-updates/main amd64 libmagickwand-6.q16-dev amd64 8:6.9.7.4+dfsg-16ubuntu6.9 [291 kB]\n",
            "Get:28 http://archive.ubuntu.com/ubuntu bionic-updates/main amd64 libmagickwand-dev all 8:6.9.7.4+dfsg-16ubuntu6.9 [1,364 B]\n",
            "Get:29 http://archive.ubuntu.com/ubuntu bionic/main amd64 poppler-data all 0.4.8-2 [1,479 kB]\n",
            "Get:30 http://archive.ubuntu.com/ubuntu bionic/main amd64 fonts-noto-mono all 20171026-2 [75.5 kB]\n",
            "Get:31 http://archive.ubuntu.com/ubuntu bionic-updates/main amd64 libcupsimage2 amd64 2.2.7-1ubuntu2.8 [18.6 kB]\n",
            "Get:32 http://archive.ubuntu.com/ubuntu bionic/main amd64 libijs-0.35 amd64 0.35-13 [15.5 kB]\n",
            "Get:33 http://archive.ubuntu.com/ubuntu bionic/main amd64 libjbig2dec0 amd64 0.13-6 [55.9 kB]\n",
            "Get:34 http://archive.ubuntu.com/ubuntu bionic-updates/main amd64 libgs9-common all 9.26~dfsg+0-0ubuntu0.18.04.14 [5,092 kB]\n",
            "Get:35 http://archive.ubuntu.com/ubuntu bionic-updates/main amd64 libgs9 amd64 9.26~dfsg+0-0ubuntu0.18.04.14 [2,265 kB]\n",
            "Get:36 http://archive.ubuntu.com/ubuntu bionic-updates/main amd64 ghostscript amd64 9.26~dfsg+0-0ubuntu0.18.04.14 [51.3 kB]\n",
            "Get:37 http://archive.ubuntu.com/ubuntu bionic/main amd64 gsfonts all 1:8.11+urwcyr1.0.7~pre44-4.4 [3,120 kB]\n",
            "Get:38 http://archive.ubuntu.com/ubuntu bionic-updates/main amd64 libcupsfilters1 amd64 1.20.2-0ubuntu3.1 [108 kB]\n",
            "Fetched 31.0 MB in 2s (17.0 MB/s)\n",
            "Extracting templates from packages: 100%\n",
            "Selecting previously unselected package fonts-droid-fallback.\n",
            "(Reading database ... 160983 files and directories currently installed.)\n",
            "Preparing to unpack .../00-fonts-droid-fallback_1%3a6.0.1r16-1.1_all.deb ...\n",
            "Unpacking fonts-droid-fallback (1:6.0.1r16-1.1) ...\n",
            "Selecting previously unselected package imagemagick-6-common.\n",
            "Preparing to unpack .../01-imagemagick-6-common_8%3a6.9.7.4+dfsg-16ubuntu6.9_all.deb ...\n",
            "Unpacking imagemagick-6-common (8:6.9.7.4+dfsg-16ubuntu6.9) ...\n",
            "Selecting previously unselected package libmagickcore-6-arch-config:amd64.\n",
            "Preparing to unpack .../02-libmagickcore-6-arch-config_8%3a6.9.7.4+dfsg-16ubuntu6.9_amd64.deb ...\n",
            "Unpacking libmagickcore-6-arch-config:amd64 (8:6.9.7.4+dfsg-16ubuntu6.9) ...\n",
            "Selecting previously unselected package libmagickcore-6-headers.\n",
            "Preparing to unpack .../03-libmagickcore-6-headers_8%3a6.9.7.4+dfsg-16ubuntu6.9_all.deb ...\n",
            "Unpacking libmagickcore-6-headers (8:6.9.7.4+dfsg-16ubuntu6.9) ...\n",
            "Selecting previously unselected package liblqr-1-0:amd64.\n",
            "Preparing to unpack .../04-liblqr-1-0_0.4.2-2.1_amd64.deb ...\n",
            "Unpacking liblqr-1-0:amd64 (0.4.2-2.1) ...\n",
            "Selecting previously unselected package libmagickcore-6.q16-3:amd64.\n",
            "Preparing to unpack .../05-libmagickcore-6.q16-3_8%3a6.9.7.4+dfsg-16ubuntu6.9_amd64.deb ...\n",
            "Unpacking libmagickcore-6.q16-3:amd64 (8:6.9.7.4+dfsg-16ubuntu6.9) ...\n",
            "Selecting previously unselected package libmagickwand-6-headers.\n",
            "Preparing to unpack .../06-libmagickwand-6-headers_8%3a6.9.7.4+dfsg-16ubuntu6.9_all.deb ...\n",
            "Unpacking libmagickwand-6-headers (8:6.9.7.4+dfsg-16ubuntu6.9) ...\n",
            "Selecting previously unselected package libmagickwand-6.q16-3:amd64.\n",
            "Preparing to unpack .../07-libmagickwand-6.q16-3_8%3a6.9.7.4+dfsg-16ubuntu6.9_amd64.deb ...\n",
            "Unpacking libmagickwand-6.q16-3:amd64 (8:6.9.7.4+dfsg-16ubuntu6.9) ...\n",
            "Selecting previously unselected package libdjvulibre-text.\n",
            "Preparing to unpack .../08-libdjvulibre-text_3.5.27.1-8ubuntu0.2_all.deb ...\n",
            "Unpacking libdjvulibre-text (3.5.27.1-8ubuntu0.2) ...\n",
            "Selecting previously unselected package libdjvulibre21:amd64.\n",
            "Preparing to unpack .../09-libdjvulibre21_3.5.27.1-8ubuntu0.2_amd64.deb ...\n",
            "Unpacking libdjvulibre21:amd64 (3.5.27.1-8ubuntu0.2) ...\n",
            "Selecting previously unselected package libwmf0.2-7:amd64.\n",
            "Preparing to unpack .../10-libwmf0.2-7_0.2.8.4-12_amd64.deb ...\n",
            "Unpacking libwmf0.2-7:amd64 (0.2.8.4-12) ...\n",
            "Selecting previously unselected package libmagickcore-6.q16-3-extra:amd64.\n",
            "Preparing to unpack .../11-libmagickcore-6.q16-3-extra_8%3a6.9.7.4+dfsg-16ubuntu6.9_amd64.deb ...\n",
            "Unpacking libmagickcore-6.q16-3-extra:amd64 (8:6.9.7.4+dfsg-16ubuntu6.9) ...\n",
            "Selecting previously unselected package libdjvulibre-dev:amd64.\n",
            "Preparing to unpack .../12-libdjvulibre-dev_3.5.27.1-8ubuntu0.2_amd64.deb ...\n",
            "Unpacking libdjvulibre-dev:amd64 (3.5.27.1-8ubuntu0.2) ...\n",
            "Selecting previously unselected package liblcms2-dev:amd64.\n",
            "Preparing to unpack .../13-liblcms2-dev_2.9-1ubuntu0.1_amd64.deb ...\n",
            "Unpacking liblcms2-dev:amd64 (2.9-1ubuntu0.1) ...\n",
            "Selecting previously unselected package liblqr-1-0-dev:amd64.\n",
            "Preparing to unpack .../14-liblqr-1-0-dev_0.4.2-2.1_amd64.deb ...\n",
            "Unpacking liblqr-1-0-dev:amd64 (0.4.2-2.1) ...\n",
            "Selecting previously unselected package gir1.2-freedesktop:amd64.\n",
            "Preparing to unpack .../15-gir1.2-freedesktop_1.56.1-1_amd64.deb ...\n",
            "Unpacking gir1.2-freedesktop:amd64 (1.56.1-1) ...\n",
            "Selecting previously unselected package gir1.2-gdkpixbuf-2.0:amd64.\n",
            "Preparing to unpack .../16-gir1.2-gdkpixbuf-2.0_2.36.11-2_amd64.deb ...\n",
            "Unpacking gir1.2-gdkpixbuf-2.0:amd64 (2.36.11-2) ...\n",
            "Selecting previously unselected package gir1.2-rsvg-2.0:amd64.\n",
            "Preparing to unpack .../17-gir1.2-rsvg-2.0_2.40.20-2ubuntu0.2_amd64.deb ...\n",
            "Unpacking gir1.2-rsvg-2.0:amd64 (2.40.20-2ubuntu0.2) ...\n",
            "Selecting previously unselected package libgdk-pixbuf2.0-dev.\n",
            "Preparing to unpack .../18-libgdk-pixbuf2.0-dev_2.36.11-2_amd64.deb ...\n",
            "Unpacking libgdk-pixbuf2.0-dev (2.36.11-2) ...\n",
            "Selecting previously unselected package libcairo-script-interpreter2:amd64.\n",
            "Preparing to unpack .../19-libcairo-script-interpreter2_1.15.10-2ubuntu0.1_amd64.deb ...\n",
            "Unpacking libcairo-script-interpreter2:amd64 (1.15.10-2ubuntu0.1) ...\n",
            "Selecting previously unselected package libpixman-1-dev:amd64.\n",
            "Preparing to unpack .../20-libpixman-1-dev_0.34.0-2_amd64.deb ...\n",
            "Unpacking libpixman-1-dev:amd64 (0.34.0-2) ...\n",
            "Selecting previously unselected package libxcb-shm0-dev:amd64.\n",
            "Preparing to unpack .../21-libxcb-shm0-dev_1.13-2~ubuntu18.04_amd64.deb ...\n",
            "Unpacking libxcb-shm0-dev:amd64 (1.13-2~ubuntu18.04) ...\n",
            "Selecting previously unselected package libcairo2-dev:amd64.\n",
            "Preparing to unpack .../22-libcairo2-dev_1.15.10-2ubuntu0.1_amd64.deb ...\n",
            "Unpacking libcairo2-dev:amd64 (1.15.10-2ubuntu0.1) ...\n",
            "Selecting previously unselected package librsvg2-dev:amd64.\n",
            "Preparing to unpack .../23-librsvg2-dev_2.40.20-2ubuntu0.2_amd64.deb ...\n",
            "Unpacking librsvg2-dev:amd64 (2.40.20-2ubuntu0.2) ...\n",
            "Selecting previously unselected package libwmf-dev.\n",
            "Preparing to unpack .../24-libwmf-dev_0.2.8.4-12_amd64.deb ...\n",
            "Unpacking libwmf-dev (0.2.8.4-12) ...\n",
            "Selecting previously unselected package libmagickcore-6.q16-dev:amd64.\n",
            "Preparing to unpack .../25-libmagickcore-6.q16-dev_8%3a6.9.7.4+dfsg-16ubuntu6.9_amd64.deb ...\n",
            "Unpacking libmagickcore-6.q16-dev:amd64 (8:6.9.7.4+dfsg-16ubuntu6.9) ...\n",
            "Selecting previously unselected package libmagickwand-6.q16-dev:amd64.\n",
            "Preparing to unpack .../26-libmagickwand-6.q16-dev_8%3a6.9.7.4+dfsg-16ubuntu6.9_amd64.deb ...\n",
            "Unpacking libmagickwand-6.q16-dev:amd64 (8:6.9.7.4+dfsg-16ubuntu6.9) ...\n",
            "Selecting previously unselected package libmagickwand-dev.\n",
            "Preparing to unpack .../27-libmagickwand-dev_8%3a6.9.7.4+dfsg-16ubuntu6.9_all.deb ...\n",
            "Unpacking libmagickwand-dev (8:6.9.7.4+dfsg-16ubuntu6.9) ...\n",
            "Selecting previously unselected package poppler-data.\n",
            "Preparing to unpack .../28-poppler-data_0.4.8-2_all.deb ...\n",
            "Unpacking poppler-data (0.4.8-2) ...\n",
            "Selecting previously unselected package fonts-noto-mono.\n",
            "Preparing to unpack .../29-fonts-noto-mono_20171026-2_all.deb ...\n",
            "Unpacking fonts-noto-mono (20171026-2) ...\n",
            "Selecting previously unselected package libcupsimage2:amd64.\n",
            "Preparing to unpack .../30-libcupsimage2_2.2.7-1ubuntu2.8_amd64.deb ...\n",
            "Unpacking libcupsimage2:amd64 (2.2.7-1ubuntu2.8) ...\n",
            "Selecting previously unselected package libijs-0.35:amd64.\n",
            "Preparing to unpack .../31-libijs-0.35_0.35-13_amd64.deb ...\n",
            "Unpacking libijs-0.35:amd64 (0.35-13) ...\n",
            "Selecting previously unselected package libjbig2dec0:amd64.\n",
            "Preparing to unpack .../32-libjbig2dec0_0.13-6_amd64.deb ...\n",
            "Unpacking libjbig2dec0:amd64 (0.13-6) ...\n",
            "Selecting previously unselected package libgs9-common.\n",
            "Preparing to unpack .../33-libgs9-common_9.26~dfsg+0-0ubuntu0.18.04.14_all.deb ...\n",
            "Unpacking libgs9-common (9.26~dfsg+0-0ubuntu0.18.04.14) ...\n",
            "Selecting previously unselected package libgs9:amd64.\n",
            "Preparing to unpack .../34-libgs9_9.26~dfsg+0-0ubuntu0.18.04.14_amd64.deb ...\n",
            "Unpacking libgs9:amd64 (9.26~dfsg+0-0ubuntu0.18.04.14) ...\n",
            "Selecting previously unselected package ghostscript.\n",
            "Preparing to unpack .../35-ghostscript_9.26~dfsg+0-0ubuntu0.18.04.14_amd64.deb ...\n",
            "Unpacking ghostscript (9.26~dfsg+0-0ubuntu0.18.04.14) ...\n",
            "Selecting previously unselected package gsfonts.\n",
            "Preparing to unpack .../36-gsfonts_1%3a8.11+urwcyr1.0.7~pre44-4.4_all.deb ...\n",
            "Unpacking gsfonts (1:8.11+urwcyr1.0.7~pre44-4.4) ...\n",
            "Selecting previously unselected package libcupsfilters1:amd64.\n",
            "Preparing to unpack .../37-libcupsfilters1_1.20.2-0ubuntu3.1_amd64.deb ...\n",
            "Unpacking libcupsfilters1:amd64 (1.20.2-0ubuntu3.1) ...\n",
            "Setting up libgs9-common (9.26~dfsg+0-0ubuntu0.18.04.14) ...\n",
            "Setting up imagemagick-6-common (8:6.9.7.4+dfsg-16ubuntu6.9) ...\n",
            "Setting up fonts-droid-fallback (1:6.0.1r16-1.1) ...\n",
            "Setting up liblcms2-dev:amd64 (2.9-1ubuntu0.1) ...\n",
            "Setting up gsfonts (1:8.11+urwcyr1.0.7~pre44-4.4) ...\n",
            "Setting up libcairo-script-interpreter2:amd64 (1.15.10-2ubuntu0.1) ...\n",
            "Setting up poppler-data (0.4.8-2) ...\n",
            "Setting up libdjvulibre-text (3.5.27.1-8ubuntu0.2) ...\n",
            "Setting up gir1.2-freedesktop:amd64 (1.56.1-1) ...\n",
            "Setting up libxcb-shm0-dev:amd64 (1.13-2~ubuntu18.04) ...\n",
            "Setting up libmagickcore-6-arch-config:amd64 (8:6.9.7.4+dfsg-16ubuntu6.9) ...\n",
            "Setting up gir1.2-gdkpixbuf-2.0:amd64 (2.36.11-2) ...\n",
            "Setting up fonts-noto-mono (20171026-2) ...\n",
            "Setting up libcupsfilters1:amd64 (1.20.2-0ubuntu3.1) ...\n",
            "Setting up libcupsimage2:amd64 (2.2.7-1ubuntu2.8) ...\n",
            "Setting up liblqr-1-0:amd64 (0.4.2-2.1) ...\n",
            "Setting up libjbig2dec0:amd64 (0.13-6) ...\n",
            "Setting up libgdk-pixbuf2.0-dev (2.36.11-2) ...\n",
            "Setting up libpixman-1-dev:amd64 (0.34.0-2) ...\n",
            "Setting up gir1.2-rsvg-2.0:amd64 (2.40.20-2ubuntu0.2) ...\n",
            "Setting up libijs-0.35:amd64 (0.35-13) ...\n",
            "Setting up libmagickcore-6-headers (8:6.9.7.4+dfsg-16ubuntu6.9) ...\n",
            "Setting up libgs9:amd64 (9.26~dfsg+0-0ubuntu0.18.04.14) ...\n",
            "Setting up libwmf0.2-7:amd64 (0.2.8.4-12) ...\n",
            "Setting up libwmf-dev (0.2.8.4-12) ...\n",
            "Setting up libmagickcore-6.q16-3:amd64 (8:6.9.7.4+dfsg-16ubuntu6.9) ...\n",
            "Setting up liblqr-1-0-dev:amd64 (0.4.2-2.1) ...\n",
            "Setting up libcairo2-dev:amd64 (1.15.10-2ubuntu0.1) ...\n",
            "Setting up libdjvulibre21:amd64 (3.5.27.1-8ubuntu0.2) ...\n",
            "Setting up libmagickwand-6-headers (8:6.9.7.4+dfsg-16ubuntu6.9) ...\n",
            "Setting up libdjvulibre-dev:amd64 (3.5.27.1-8ubuntu0.2) ...\n",
            "Setting up librsvg2-dev:amd64 (2.40.20-2ubuntu0.2) ...\n",
            "Setting up ghostscript (9.26~dfsg+0-0ubuntu0.18.04.14) ...\n",
            "Setting up libmagickwand-6.q16-3:amd64 (8:6.9.7.4+dfsg-16ubuntu6.9) ...\n",
            "Setting up libmagickcore-6.q16-3-extra:amd64 (8:6.9.7.4+dfsg-16ubuntu6.9) ...\n",
            "Setting up libmagickcore-6.q16-dev:amd64 (8:6.9.7.4+dfsg-16ubuntu6.9) ...\n",
            "Setting up libmagickwand-6.q16-dev:amd64 (8:6.9.7.4+dfsg-16ubuntu6.9) ...\n",
            "Setting up libmagickwand-dev (8:6.9.7.4+dfsg-16ubuntu6.9) ...\n",
            "Processing triggers for man-db (2.8.3-2ubuntu0.1) ...\n",
            "Processing triggers for fontconfig (2.12.6-0ubuntu2) ...\n",
            "Processing triggers for libc-bin (2.27-3ubuntu1.2) ...\n",
            "/sbin/ldconfig.real: /usr/local/lib/python3.7/dist-packages/ideep4py/lib/libmkldnn.so.0 is not a symbolic link\n",
            "\n",
            "Reading package lists... Done\n",
            "Building dependency tree       \n",
            "Reading state information... Done\n",
            "The following additional packages will be installed:\n",
            "  imagemagick-6.q16 libnetpbm10 netpbm\n",
            "Suggested packages:\n",
            "  imagemagick-doc autotrace cups-bsd | lpr | lprng enscript gimp gnuplot grads\n",
            "  hp2xx html2ps libwmf-bin mplayer povray radiance sane-utils texlive-base-bin\n",
            "  transfig ufraw-batch\n",
            "The following NEW packages will be installed:\n",
            "  imagemagick imagemagick-6.q16 libnetpbm10 netpbm\n",
            "0 upgraded, 4 newly installed, 0 to remove and 31 not upgraded.\n",
            "Need to get 1,513 kB of archives.\n",
            "After this operation, 5,204 kB of additional disk space will be used.\n",
            "Get:1 http://archive.ubuntu.com/ubuntu bionic-updates/main amd64 imagemagick-6.q16 amd64 8:6.9.7.4+dfsg-16ubuntu6.9 [423 kB]\n",
            "Get:2 http://archive.ubuntu.com/ubuntu bionic-updates/main amd64 imagemagick amd64 8:6.9.7.4+dfsg-16ubuntu6.9 [14.2 kB]\n",
            "Get:3 http://archive.ubuntu.com/ubuntu bionic/main amd64 libnetpbm10 amd64 2:10.0-15.3build1 [58.0 kB]\n",
            "Get:4 http://archive.ubuntu.com/ubuntu bionic/main amd64 netpbm amd64 2:10.0-15.3build1 [1,017 kB]\n",
            "Fetched 1,513 kB in 1s (1,924 kB/s)\n",
            "Selecting previously unselected package imagemagick-6.q16.\n",
            "(Reading database ... 162899 files and directories currently installed.)\n",
            "Preparing to unpack .../imagemagick-6.q16_8%3a6.9.7.4+dfsg-16ubuntu6.9_amd64.deb ...\n",
            "Unpacking imagemagick-6.q16 (8:6.9.7.4+dfsg-16ubuntu6.9) ...\n",
            "Selecting previously unselected package imagemagick.\n",
            "Preparing to unpack .../imagemagick_8%3a6.9.7.4+dfsg-16ubuntu6.9_amd64.deb ...\n",
            "Unpacking imagemagick (8:6.9.7.4+dfsg-16ubuntu6.9) ...\n",
            "Selecting previously unselected package libnetpbm10.\n",
            "Preparing to unpack .../libnetpbm10_2%3a10.0-15.3build1_amd64.deb ...\n",
            "Unpacking libnetpbm10 (2:10.0-15.3build1) ...\n",
            "Selecting previously unselected package netpbm.\n",
            "Preparing to unpack .../netpbm_2%3a10.0-15.3build1_amd64.deb ...\n",
            "Unpacking netpbm (2:10.0-15.3build1) ...\n",
            "Setting up libnetpbm10 (2:10.0-15.3build1) ...\n",
            "Setting up imagemagick-6.q16 (8:6.9.7.4+dfsg-16ubuntu6.9) ...\n",
            "update-alternatives: using /usr/bin/compare-im6.q16 to provide /usr/bin/compare (compare) in auto mode\n",
            "update-alternatives: using /usr/bin/compare-im6.q16 to provide /usr/bin/compare-im6 (compare-im6) in auto mode\n",
            "update-alternatives: using /usr/bin/animate-im6.q16 to provide /usr/bin/animate (animate) in auto mode\n",
            "update-alternatives: using /usr/bin/animate-im6.q16 to provide /usr/bin/animate-im6 (animate-im6) in auto mode\n",
            "update-alternatives: using /usr/bin/convert-im6.q16 to provide /usr/bin/convert (convert) in auto mode\n",
            "update-alternatives: using /usr/bin/convert-im6.q16 to provide /usr/bin/convert-im6 (convert-im6) in auto mode\n",
            "update-alternatives: using /usr/bin/composite-im6.q16 to provide /usr/bin/composite (composite) in auto mode\n",
            "update-alternatives: using /usr/bin/composite-im6.q16 to provide /usr/bin/composite-im6 (composite-im6) in auto mode\n",
            "update-alternatives: using /usr/bin/conjure-im6.q16 to provide /usr/bin/conjure (conjure) in auto mode\n",
            "update-alternatives: using /usr/bin/conjure-im6.q16 to provide /usr/bin/conjure-im6 (conjure-im6) in auto mode\n",
            "update-alternatives: using /usr/bin/import-im6.q16 to provide /usr/bin/import (import) in auto mode\n",
            "update-alternatives: using /usr/bin/import-im6.q16 to provide /usr/bin/import-im6 (import-im6) in auto mode\n",
            "update-alternatives: using /usr/bin/identify-im6.q16 to provide /usr/bin/identify (identify) in auto mode\n",
            "update-alternatives: using /usr/bin/identify-im6.q16 to provide /usr/bin/identify-im6 (identify-im6) in auto mode\n",
            "update-alternatives: using /usr/bin/stream-im6.q16 to provide /usr/bin/stream (stream) in auto mode\n",
            "update-alternatives: using /usr/bin/stream-im6.q16 to provide /usr/bin/stream-im6 (stream-im6) in auto mode\n",
            "update-alternatives: using /usr/bin/display-im6.q16 to provide /usr/bin/display (display) in auto mode\n",
            "update-alternatives: using /usr/bin/display-im6.q16 to provide /usr/bin/display-im6 (display-im6) in auto mode\n",
            "update-alternatives: using /usr/bin/montage-im6.q16 to provide /usr/bin/montage (montage) in auto mode\n",
            "update-alternatives: using /usr/bin/montage-im6.q16 to provide /usr/bin/montage-im6 (montage-im6) in auto mode\n",
            "update-alternatives: using /usr/bin/mogrify-im6.q16 to provide /usr/bin/mogrify (mogrify) in auto mode\n",
            "update-alternatives: using /usr/bin/mogrify-im6.q16 to provide /usr/bin/mogrify-im6 (mogrify-im6) in auto mode\n",
            "Setting up imagemagick (8:6.9.7.4+dfsg-16ubuntu6.9) ...\n",
            "Setting up netpbm (2:10.0-15.3build1) ...\n",
            "Processing triggers for hicolor-icon-theme (0.17-2) ...\n",
            "Processing triggers for mime-support (3.60ubuntu1) ...\n",
            "Processing triggers for libc-bin (2.27-3ubuntu1.2) ...\n",
            "/sbin/ldconfig.real: /usr/local/lib/python3.7/dist-packages/ideep4py/lib/libmkldnn.so.0 is not a symbolic link\n",
            "\n",
            "Processing triggers for man-db (2.8.3-2ubuntu0.1) ...\n",
            "Reading package lists... Done\n",
            "Building dependency tree       \n",
            "Reading state information... Done\n",
            "The following additional packages will be installed:\n",
            "  tesseract-ocr-eng tesseract-ocr-osd\n",
            "The following NEW packages will be installed:\n",
            "  tesseract-ocr tesseract-ocr-eng tesseract-ocr-osd\n",
            "0 upgraded, 3 newly installed, 0 to remove and 31 not upgraded.\n",
            "Need to get 4,795 kB of archives.\n",
            "After this operation, 15.8 MB of additional disk space will be used.\n",
            "Get:1 http://archive.ubuntu.com/ubuntu bionic/universe amd64 tesseract-ocr-eng all 4.00~git24-0e00fe6-1.2 [1,588 kB]\n",
            "Get:2 http://archive.ubuntu.com/ubuntu bionic/universe amd64 tesseract-ocr-osd all 4.00~git24-0e00fe6-1.2 [2,989 kB]\n",
            "Get:3 http://archive.ubuntu.com/ubuntu bionic/universe amd64 tesseract-ocr amd64 4.00~git2288-10f4998a-2 [218 kB]\n",
            "Fetched 4,795 kB in 1s (4,867 kB/s)\n",
            "debconf: unable to initialize frontend: Dialog\n",
            "debconf: (No usable dialog-like program is installed, so the dialog based frontend cannot be used. at /usr/share/perl5/Debconf/FrontEnd/Dialog.pm line 76, <> line 3.)\n",
            "debconf: falling back to frontend: Readline\n",
            "debconf: unable to initialize frontend: Readline\n",
            "debconf: (This frontend requires a controlling tty.)\n",
            "debconf: falling back to frontend: Teletype\n",
            "dpkg-preconfigure: unable to re-open stdin: \n",
            "Selecting previously unselected package tesseract-ocr-eng.\n",
            "(Reading database ... 163443 files and directories currently installed.)\n",
            "Preparing to unpack .../tesseract-ocr-eng_4.00~git24-0e00fe6-1.2_all.deb ...\n",
            "Unpacking tesseract-ocr-eng (4.00~git24-0e00fe6-1.2) ...\n",
            "Selecting previously unselected package tesseract-ocr-osd.\n",
            "Preparing to unpack .../tesseract-ocr-osd_4.00~git24-0e00fe6-1.2_all.deb ...\n",
            "Unpacking tesseract-ocr-osd (4.00~git24-0e00fe6-1.2) ...\n",
            "Selecting previously unselected package tesseract-ocr.\n",
            "Preparing to unpack .../tesseract-ocr_4.00~git2288-10f4998a-2_amd64.deb ...\n",
            "Unpacking tesseract-ocr (4.00~git2288-10f4998a-2) ...\n",
            "Setting up tesseract-ocr-osd (4.00~git24-0e00fe6-1.2) ...\n",
            "Setting up tesseract-ocr-eng (4.00~git24-0e00fe6-1.2) ...\n",
            "Setting up tesseract-ocr (4.00~git2288-10f4998a-2) ...\n",
            "Processing triggers for man-db (2.8.3-2ubuntu0.1) ...\n",
            "Collecting pytesseract\n",
            "  Downloading https://files.pythonhosted.org/packages/a0/e6/a4e9fc8a93c1318540e8de6d8d4beb5749b7960388a7c7f27799fc2dd016/pytesseract-0.3.7.tar.gz\n",
            "Requirement already satisfied: Pillow in /usr/local/lib/python3.7/dist-packages (from pytesseract) (7.1.2)\n",
            "Building wheels for collected packages: pytesseract\n",
            "  Building wheel for pytesseract (setup.py) ... \u001b[?25l\u001b[?25hdone\n",
            "  Created wheel for pytesseract: filename=pytesseract-0.3.7-py2.py3-none-any.whl size=13945 sha256=5fd5fe5b3ad0a6530ed405e025c8f12747f7549dbd634f6e20e37b2ed722c6e4\n",
            "  Stored in directory: /root/.cache/pip/wheels/81/20/7e/1dd0daad1575d5260916bb1e9781246430647adaef4b3ca3b3\n",
            "Successfully built pytesseract\n",
            "Installing collected packages: pytesseract\n",
            "Successfully installed pytesseract-0.3.7\n",
            "Collecting wand\n",
            "\u001b[?25l  Downloading https://files.pythonhosted.org/packages/d7/f6/05f043c099639b9017b7244791048a4d146dfea45b41a199aed373246d50/Wand-0.6.6-py2.py3-none-any.whl (138kB)\n",
            "\u001b[K     |████████████████████████████████| 143kB 14.9MB/s \n",
            "\u001b[?25hInstalling collected packages: wand\n",
            "Successfully installed wand-0.6.6\n",
            "Collecting pdfminer.six\n",
            "\u001b[?25l  Downloading https://files.pythonhosted.org/packages/93/f3/4fec7dabe8802ebec46141345bf714cd1fc7d93cb74ddde917e4b6d97d88/pdfminer.six-20201018-py3-none-any.whl (5.6MB)\n",
            "\u001b[K     |████████████████████████████████| 5.6MB 20.4MB/s \n",
            "\u001b[?25hRequirement already satisfied: sortedcontainers in /usr/local/lib/python3.7/dist-packages (from pdfminer.six) (2.3.0)\n",
            "Collecting cryptography\n",
            "\u001b[?25l  Downloading https://files.pythonhosted.org/packages/b2/26/7af637e6a7e87258b963f1731c5982fb31cd507f0d90d91836e446955d02/cryptography-3.4.7-cp36-abi3-manylinux2014_x86_64.whl (3.2MB)\n",
            "\u001b[K     |████████████████████████████████| 3.2MB 42.4MB/s \n",
            "\u001b[?25hRequirement already satisfied: chardet; python_version > \"3.0\" in /usr/local/lib/python3.7/dist-packages (from pdfminer.six) (3.0.4)\n",
            "Requirement already satisfied: cffi>=1.12 in /usr/local/lib/python3.7/dist-packages (from cryptography->pdfminer.six) (1.14.5)\n",
            "Requirement already satisfied: pycparser in /usr/local/lib/python3.7/dist-packages (from cffi>=1.12->cryptography->pdfminer.six) (2.20)\n",
            "Installing collected packages: cryptography, pdfminer.six\n",
            "Successfully installed cryptography-3.4.7 pdfminer.six-20201018\n"
          ],
          "name": "stdout"
        }
      ]
    },
    {
      "cell_type": "code",
      "metadata": {
        "colab": {
          "base_uri": "https://localhost:8080/"
        },
        "id": "i2oNFrD_LQYz",
        "outputId": "19450429-10b4-4ead-8bd6-01e7a17b1632"
      },
      "source": [
        "!wget -P /usr/share/tesseract-ocr/4.00/tessdata https://github.com/tesseract-ocr/tessdata_best/raw/master/rus.traineddata\n",
        "!export TESSDATA_PREFIX=/usr/share/tesseract-ocr/4.00/tessdata"
      ],
      "execution_count": null,
      "outputs": [
        {
          "output_type": "stream",
          "text": [
            "--2021-04-08 21:34:08--  https://github.com/tesseract-ocr/tessdata_best/raw/master/rus.traineddata\n",
            "Resolving github.com (github.com)... 140.82.112.3\n",
            "Connecting to github.com (github.com)|140.82.112.3|:443... connected.\n",
            "HTTP request sent, awaiting response... 302 Found\n",
            "Location: https://raw.githubusercontent.com/tesseract-ocr/tessdata_best/master/rus.traineddata [following]\n",
            "--2021-04-08 21:34:08--  https://raw.githubusercontent.com/tesseract-ocr/tessdata_best/master/rus.traineddata\n",
            "Resolving raw.githubusercontent.com (raw.githubusercontent.com)... 185.199.108.133, 185.199.109.133, 185.199.110.133, ...\n",
            "Connecting to raw.githubusercontent.com (raw.githubusercontent.com)|185.199.108.133|:443... connected.\n",
            "HTTP request sent, awaiting response... 200 OK\n",
            "Length: 15301764 (15M) [application/octet-stream]\n",
            "Saving to: ‘/usr/share/tesseract-ocr/4.00/tessdata/rus.traineddata’\n",
            "\n",
            "rus.traineddata     100%[===================>]  14.59M  --.-KB/s    in 0.1s    \n",
            "\n",
            "2021-04-08 21:34:09 (120 MB/s) - ‘/usr/share/tesseract-ocr/4.00/tessdata/rus.traineddata’ saved [15301764/15301764]\n",
            "\n"
          ],
          "name": "stdout"
        }
      ]
    },
    {
      "cell_type": "code",
      "metadata": {
        "id": "4RTGnHOI8IyD"
      },
      "source": [
        "import os\n",
        "import pdfminer.high_level\n",
        "tempdir = r\"/tmp\"\n",
        "cache = os.listdir( tempdir )\n",
        "\n",
        "\n",
        "from wand.resource import limits\n",
        "\n",
        "# Use 100MB of ram before writing temp data to disk.\n",
        "limits['memory'] = 1024 * 1024 * 100\n",
        "\n",
        "for item in cache:\n",
        "    if item.endswith(\".jpg\") or item.startswith(\"magick-\"):\n",
        "        os.remove( os.path.join( tempdir, item ) )\n"
      ],
      "execution_count": null,
      "outputs": []
    },
    {
      "cell_type": "code",
      "metadata": {
        "id": "K-CQl58J7ZZA",
        "scrolled": true,
        "colab": {
          "base_uri": "https://localhost:8080/"
        },
        "outputId": "242429db-fa3c-49bf-a855-f7608b6a4864"
      },
      "source": [
        "from google.colab import drive\n",
        "drive.mount(\"/content/drive\")"
      ],
      "execution_count": null,
      "outputs": [
        {
          "output_type": "stream",
          "text": [
            "Mounted at /content/drive\n"
          ],
          "name": "stdout"
        }
      ]
    },
    {
      "cell_type": "code",
      "metadata": {
        "id": "Q5gIdl1O7ZY5"
      },
      "source": [
        "import os\n",
        "import io\n",
        "from PIL import Image\n",
        "import pytesseract\n",
        "from wand.image import Image as wi\n",
        "import gc\n",
        "#pytesseract.pytesseract.tesseract_cmd = r\"C:\\Program Files (x86)\\Tesseract-OCR\\tesseract.exe\"\n",
        "pytesseract.pytesseract.tessdata_prefix = r\"/usr/share/tesseract-ocr/4.00/tessdata\"\n",
        "from wand.resource import limits\n",
        "\n",
        "# Use 100MB of ram before writing temp data to disk.\n",
        "limits['memory'] = 1024 * 1024 * 100\n",
        "\n",
        "# pdf = wi(filename = \"Downloads/НК Роснефть_РСБУ_2020.pdf\", resolution = 300)\n",
        "# pdfImg=pdf.convert('jpeg')\n",
        "\n",
        "imgBlobs=[]\n",
        "extracted_text=[]\n",
        "\n",
        "def Get_text_from_image(pdf_path):\n",
        "    pdf=wi(filename=pdf_path,resolution=300)\n",
        "    pdfImg=pdf.convert('jpeg')\n",
        "    imgBlobs=[]\n",
        "    extracted_text=[]\n",
        "    try:\n",
        "      for img in pdfImg.sequence:\n",
        "          page=wi(image=img)\n",
        "          imgBlobs.append(page.make_blob('jpeg'))\n",
        "    finally:\n",
        "        pdfImg.destroy()\n",
        "\n",
        "    for imgBlob in imgBlobs:\n",
        "        im=Image.open(io.BytesIO(imgBlob))\n",
        "        text=pytesseract.image_to_string(im,lang='rus')\n",
        "        extracted_text.append(text)\n",
        "\n",
        "    return (extracted_text)"
      ],
      "execution_count": null,
      "outputs": []
    },
    {
      "cell_type": "code",
      "metadata": {
        "id": "KssDpUJX9gwB"
      },
      "source": [
        "#txt"
      ],
      "execution_count": null,
      "outputs": []
    },
    {
      "cell_type": "markdown",
      "metadata": {
        "id": "UZVOOt_5hM3f"
      },
      "source": [
        "## Поиск информации"
      ]
    },
    {
      "cell_type": "code",
      "metadata": {
        "id": "DGsUssZv7ZZB"
      },
      "source": [
        "def find_inn(txt):\n",
        "    i=0\n",
        "    for txtpart in txt:\n",
        "        for accrloc in find_all(txtpart.lower(), 'инн'):\n",
        "            if accrloc>0:\n",
        "                innm = re.findall('\\d{10}', txtpart[accrloc:accrloc+50])\n",
        "                if len(innm)>1:\n",
        "                    inn = innm[1]\n",
        "                if len(innm)>0:\n",
        "                    inn = innm[0]\n",
        "                print(i)\n",
        "            i+=1\n",
        "    return inn"
      ],
      "execution_count": null,
      "outputs": []
    },
    {
      "cell_type": "code",
      "metadata": {
        "id": "mugOYVRa7ZZB"
      },
      "source": [
        "def find_depo(txt):\n",
        "    i=0\n",
        "    accr= []\n",
        "    page_depo = []\n",
        "    cntc = 0\n",
        "    strg = []\n",
        "    for txtpart in txt:\n",
        "        cntc+=1\n",
        "        for accrloc in find_all(txtpart.lower(), 'депозит'):\n",
        "            if accrloc>0:\n",
        "                accrm = re.findall('\\d+', txtpart[accrloc:accrloc+150])\n",
        "                cnt = int(len(accrm)/3)\n",
        "                accr.append(''.join(accrm[0:cnt]))\n",
        "                page_depo.append(cntc)\n",
        "                strg.append(txtpart[accrloc-30:accrloc+30])\n",
        "        i+=1\n",
        "    return accr, page_depo, strg"
      ],
      "execution_count": null,
      "outputs": []
    },
    {
      "cell_type": "code",
      "metadata": {
        "id": "AUY3GX0b7ZZB"
      },
      "source": [
        "import re\n",
        "def find_all(a_str, sub):\n",
        "    start = 0\n",
        "    while True:\n",
        "        start = a_str.lower().find(sub.lower(), start)\n",
        "        if start == -1: return\n",
        "        yield start\n",
        "        start += len(sub)"
      ],
      "execution_count": null,
      "outputs": []
    },
    {
      "cell_type": "code",
      "metadata": {
        "id": "4aBlXJeK7ZZB"
      },
      "source": [
        "# inn = find_inn(txt)\n",
        "# print(inn)\n",
        "# depo = find_depo(txt)"
      ],
      "execution_count": null,
      "outputs": []
    },
    {
      "cell_type": "code",
      "metadata": {
        "id": "4LDbDEpq7ZZC"
      },
      "source": [
        "def enable_download_headless(browser,download_dir):\n",
        "    browser.command_executor._commands[\"send_command\"] = (\"POST\", '/session/$sessionId/chromium/send_command')\n",
        "    params = {'cmd':'Page.setDownloadBehavior', 'params': {'behavior': 'allow', 'downloadPath': download_dir}}\n",
        "    browser.execute(\"send_command\", params)"
      ],
      "execution_count": null,
      "outputs": []
    },
    {
      "cell_type": "code",
      "metadata": {
        "id": "DmB2GSFQ7ZZC"
      },
      "source": [
        "def find_rs(txt):\n",
        "    i=0\n",
        "    accr = []\n",
        "    page_rs = []\n",
        "    cntc = 0\n",
        "    strg = []\n",
        "    for txtpart in txt:\n",
        "        cntc+=1\n",
        "        for accrloc in find_all(txtpart.lower(), 'расчетные счета'):\n",
        "            if accrloc>0:\n",
        "                accrm = re.findall('\\d+', txtpart[accrloc:accrloc+150])\n",
        "                cnt = int(len(accrm)/3)\n",
        "                accr.append(''.join(accrm[0:cnt]))\n",
        "                page_rs.append(cntc)\n",
        "                strg.append(txtpart[accrloc-30:accrloc+30])\n",
        "        for accrloc in find_all(txtpart.lower(), 'текущие счета'):\n",
        "            if accrloc>0:\n",
        "                accrm = re.findall('\\d+', txtpart[accrloc:accrloc+150])\n",
        "                cnt = int(len(accrm)/3)\n",
        "                accr.append(''.join(accrm[0:cnt]))\n",
        "                page_rs.append(cntc)\n",
        "                strg.append(txtpart[accrloc-30:accrloc+30])\n",
        "        for accrloc in find_all(txtpart.lower(), 'расчетных счетах'):\n",
        "            if accrloc>0:\n",
        "                accrm = re.findall('\\d+', txtpart[accrloc:accrloc+150])\n",
        "                cnt = int(len(accrm)/3)\n",
        "                accr.append(''.join(accrm[0:cnt]))\n",
        "                page_rs.append(cntc)\n",
        "                strg.append(txtpart[accrloc-30:accrloc+30])\n",
        "        for accrloc in find_all(txtpart.lower(), 'текущих счетах'):\n",
        "            if accrloc>0:\n",
        "                accrm = re.findall('\\d+', txtpart[accrloc:accrloc+150])\n",
        "                cnt = int(len(accrm)/3)\n",
        "                accr.append(''.join(accrm[0:cnt]))\n",
        "                page_rs.append(cntc)\n",
        "                strg.append(txtpart[accrloc-30:accrloc+30])\n",
        "        for accrloc in find_all(txtpart.lower(), 'денежные эквиваленты'):\n",
        "            if accrloc>0:\n",
        "                accrm = re.findall('\\d+', txtpart[accrloc:accrloc+150])\n",
        "                cnt = int(len(accrm)/3)\n",
        "                accr.append(''.join(accrm[0:cnt]))\n",
        "                page_rs.append(cntc)\n",
        "                strg.append(txtpart[accrloc-30:accrloc+30])\n",
        "        for accrloc in find_all(txtpart.lower(), 'касс'):\n",
        "            if accrloc>0:\n",
        "                accrm = re.findall('\\d+', txtpart[accrloc:accrloc+150])\n",
        "                cnt = int(len(accrm)/3)\n",
        "                accr.append(''.join(accrm[0:cnt]))\n",
        "                page_rs.append(cntc)\n",
        "                strg.append(txtpart[accrloc-30:accrloc+30])\n",
        "    return accr, page_rs, strg"
      ],
      "execution_count": null,
      "outputs": []
    },
    {
      "cell_type": "code",
      "metadata": {
        "id": "ChkqjEN_7ZZC"
      },
      "source": [
        "def find_gar(txt):\n",
        "    i=0\n",
        "    gar= []\n",
        "    page_gar = []\n",
        "    cntc = 0\n",
        "    strg = []\n",
        "    for txtpart in txt:\n",
        "        cntc+=1\n",
        "        for accrloc in find_all(txtpart.lower(), 'гаран'):\n",
        "            if accrloc>0:\n",
        "                accrm = re.findall('\\d+', txtpart[accrloc:accrloc+50])\n",
        "                cnt = int(len(accrm)/3)\n",
        "                gar.append(''.join(accrm[0:cnt]))\n",
        "                page_gar.append(cntc)\n",
        "                strg.append(txtpart[accrloc-30:accrloc+30])\n",
        "        i+=1\n",
        "    return gar, page_gar, strg"
      ],
      "execution_count": null,
      "outputs": []
    },
    {
      "cell_type": "code",
      "metadata": {
        "id": "L1ggX7nXJNPX"
      },
      "source": [
        "def find_por(txt):\n",
        "    i=0\n",
        "    accr= []\n",
        "    page_accr = []\n",
        "    cntc = 0\n",
        "    strg = []\n",
        "    for txtpart in txt:\n",
        "        cntc+=1\n",
        "        for accrloc in find_all(txtpart.lower(), 'обеспечение обязательств'):\n",
        "            if accrloc>0:\n",
        "                accrm = re.findall('\\d+', txtpart[accrloc:accrloc+50])\n",
        "                cnt = int(len(accrm)/3)\n",
        "                accr.append(''.join(accrm[0:cnt]))\n",
        "                page_accr.append(cntc)\n",
        "                strg.append(txtpart[accrloc-30:accrloc+30]) \n",
        "        for accrloc in find_all(txtpart.lower(), 'поручительства по обязательств'):\n",
        "            if accrloc>0:\n",
        "                accrm = re.findall('\\d+', txtpart[accrloc:accrloc+50])\n",
        "                cnt = int(len(accrm)/3)\n",
        "                accr.append(''.join(accrm[0:cnt]))\n",
        "                page_accr.append(cntc)\n",
        "                strg.append(txtpart[accrloc-30:accrloc+30])\n",
        "        for accrloc in find_all(txtpart.lower(), '5800'):\n",
        "            if accrloc>0:\n",
        "                accrm = re.findall('\\d+', txtpart[accrloc:accrloc+50])\n",
        "                cnt = int(len(accrm)/3)\n",
        "                accr.append(''.join(accrm[0:cnt]))\n",
        "                page_accr.append(cntc)\n",
        "                strg.append(txtpart[accrloc-30:accrloc+30]) \n",
        "    return accr, page_accr, strg\n"
      ],
      "execution_count": null,
      "outputs": []
    },
    {
      "cell_type": "code",
      "metadata": {
        "id": "31lCvIAE7ZZD"
      },
      "source": [
        "def find_accr(txt):\n",
        "    i=0\n",
        "    accr= []\n",
        "    page_accr = []\n",
        "    cntc = 0\n",
        "    strg = []\n",
        "    for txtpart in txt:\n",
        "        cntc+=1\n",
        "        for accrloc in find_all(txtpart.lower(), 'аккре'):\n",
        "            if accrloc>0:\n",
        "                accrm = re.findall('\\d+', txtpart[accrloc:accrloc+50])\n",
        "                cnt = int(len(accrm)/3)\n",
        "                accr.append(''.join(accrm[0:cnt]))\n",
        "                page_accr.append(cntc)\n",
        "                strg.append(txtpart[accrloc-30:accrloc+30]) \n",
        "        i+=1\n",
        "    return accr, page_accr, strg"
      ],
      "execution_count": null,
      "outputs": []
    },
    {
      "cell_type": "code",
      "metadata": {
        "id": "nkExtW_88b88"
      },
      "source": [
        "def find_debit(txt):\n",
        "    accr= []\n",
        "    page_accr = []\n",
        "    cntc = 0\n",
        "    strg = []\n",
        "    for txtpart in txt:\n",
        "        cntc+=1\n",
        "        for accrloc in find_all(txtpart.lower(), 'авансы выданные'):\n",
        "            if accrloc>0:\n",
        "                accrm = re.findall('\\d+', txtpart[accrloc:accrloc+50])\n",
        "                cnt = int(len(accrm)/3)\n",
        "                accr.append(''.join(accrm[0:cnt]))\n",
        "                page_accr.append(cntc)\n",
        "                strg.append(txtpart[accrloc-30:accrloc+30]) \n",
        "        for accrloc in find_all(txtpart.lower(), 'прочая задолж'):\n",
        "            if accrloc>0:\n",
        "                accrm = re.findall('\\d+', txtpart[accrloc:accrloc+50])\n",
        "                cnt = int(len(accrm)/3)\n",
        "                accr.append(''.join(accrm[0:cnt]))\n",
        "                page_accr.append(cntc)        \n",
        "                strg.append(txtpart[accrloc-30:accrloc+30]) \n",
        "        for accrloc in find_all(txtpart.lower(), 'прочая дебиторская'):\n",
        "            if accrloc>0:\n",
        "                accrm = re.findall('\\d+', txtpart[accrloc:accrloc+50])\n",
        "                cnt = int(len(accrm)/3)\n",
        "                accr.append(''.join(accrm[0:cnt]))\n",
        "                page_accr.append(cntc)\n",
        "                strg.append(txtpart[accrloc-30:accrloc+30]) \n",
        "        for accrloc in find_all(txtpart.lower(), 'прочие дебитор'):\n",
        "            if accrloc>0:\n",
        "                accrm = re.findall('\\d+', txtpart[accrloc:accrloc+50])\n",
        "                cnt = int(len(accrm)/3)\n",
        "                accr.append(''.join(accrm[0:cnt]))\n",
        "                page_accr.append(cntc)\n",
        "                strg.append(txtpart[accrloc-30:accrloc+30]) \n",
        "    return accr, page_accr, strg"
      ],
      "execution_count": null,
      "outputs": []
    },
    {
      "cell_type": "code",
      "metadata": {
        "id": "TcXreQf47ZZD",
        "colab": {
          "base_uri": "https://localhost:8080/"
        },
        "outputId": "1a20b260-07ae-4ce4-f069-1d5e7b7f349c"
      },
      "source": [
        "found_inn = []\n",
        "found_accr = []\n",
        "pages_accr = []\n",
        "strings_accr = []\n",
        "found_gar = []\n",
        "pages_gar = []\n",
        "strings_gar = []\n",
        "found_file = []\n",
        "found_entries = []\n",
        "found_depo = []\n",
        "pages_depo = []\n",
        "strings_depo = []\n",
        "found_rs = []\n",
        "pages_rs = []\n",
        "strings_rs = []\n",
        "found_debit = []\n",
        "pages_debit = []\n",
        "strings_debit = []\n",
        "found_por = []\n",
        "pages_por = []\n",
        "strings_por = []\n",
        "list_error_files = []\n",
        "from zipfile import ZipFile\n",
        "import os\n",
        "from tqdm import tqdm\n",
        "import pandas as pd\n",
        "tempdir = r\"/tmp\"\n",
        "cache = os.listdir( tempdir )\n",
        "for item in cache:\n",
        "  if item.endswith(\".jpg\") or item.startswith(\"magick-\"):\n",
        "      os.remove( os.path.join( tempdir, item ) )\n",
        "\n",
        "\n",
        "with os.scandir('sample_data/') as entries:\n",
        "    for entry in tqdm(entries):\n",
        "        print(entry.name)\n",
        "        txt = ['']\n",
        "        if entry.name[-3:].lower()=='pdf':\n",
        "            try:\n",
        "              txt = pdfminer.high_level.extract_text('sample_data/'+entry.name)\n",
        "            except Exception as e:\n",
        "              print('pdfminer error', e)\n",
        "            if len(txt[0]) < 100:\n",
        "                try:\n",
        "                    txt = Get_text_from_image('sample_data/'+entry.name)\n",
        "                    for item in cache:\n",
        "                        if item.endswith(\".jpg\") or item.startswith(\"magick-\"):\n",
        "                            try:\n",
        "                                os.remove( os.path.join( tempdir, item ) )\n",
        "                            except:\n",
        "                                continue\n",
        "                except Exception as e:\n",
        "                    list_error_files.append(entry.name)\n",
        "                    print('error', e)\n",
        "                    continue\n",
        "            inn = entry.name[:-4]\n",
        "            print(inn)\n",
        "            accr, page_accr, strg_accr = find_accr(txt)\n",
        "            print(page_accr)\n",
        "            gar, page_gar, strg_gar = find_gar(txt)\n",
        "            print(page_gar)\n",
        "            depo, page_depo, strg_depo = find_depo(txt)\n",
        "            print(page_depo)\n",
        "            rs, page_rs, strg_rs = find_rs(txt)\n",
        "            debit, page_debit, strg_debit = find_debit(txt)\n",
        "            por, page_por, strg_por= find_por(txt)\n",
        "            print(page_rs)\n",
        "            if len(inn) == 0:\n",
        "                inn = ''\n",
        "            if len(accr) == 0:\n",
        "                accr = ''\n",
        "                page_accr = ''\n",
        "                strg_accr = ''\n",
        "            if len(gar) == 0:\n",
        "                gar = ''\n",
        "                page_gar = ''\n",
        "                strg_gar = ''\n",
        "            if len(depo) == 0:\n",
        "                depo = ''\n",
        "                page_depo = ''\n",
        "                strg_depo = ''\n",
        "            if len(rs) == 0:\n",
        "                rs = ''\n",
        "                page_rs = ''\n",
        "                strg_rs = ''\n",
        "            if len(debit) == 0:\n",
        "                debit = ''\n",
        "                page_debit = ''\n",
        "                strg_debit= ''\n",
        "            if len(por) == 0:\n",
        "                por = ''\n",
        "                page_por = ''\n",
        "                strg_por = ''\n",
        "            found_inn.append(inn)\n",
        "            found_accr.append(accr)\n",
        "            pages_accr.append(page_accr)\n",
        "            strings_accr.append(strg_accr)\n",
        "            found_gar.append(gar)\n",
        "            pages_gar.append(page_gar)\n",
        "            strings_gar.append(strg_gar)\n",
        "            found_rs.append(rs)\n",
        "            pages_rs.append(page_rs)\n",
        "            strings_rs.append(strg_rs)\n",
        "            found_depo.append(depo)\n",
        "            pages_depo.append(page_depo)\n",
        "            strings_depo.append(strg_depo)\n",
        "            found_por.append(por)\n",
        "            pages_por.append(page_por) \n",
        "            strings_por.append(strg_por) \n",
        "            found_por.append(debit)\n",
        "            pages_por.append(page_debit) \n",
        "            strings_por.append(strg_debit) \n",
        "            found_file.append(entry.name)\n",
        "            found_entries.append(txt) \n",
        "        if len(found_inn)%10 == 0 and len(found_inn)>0:\n",
        "            df = pd.concat([pd.Series(found_inn), pd.Series(found_file) , pd.Series(found_accr), \n",
        "                            pd.Series(found_gar), pd.Series(found_depo), \n",
        "                            pd.Series(found_rs), pd.Series(found_debit), pd.Series(found_por),\n",
        "                            pd.Series(pages_accr), pd.Series(pages_gar), pd.Series(pages_depo),\n",
        "                            pd.Series(pages_rs), pd.Series(pages_debit), pd.Series(pages_por),\n",
        "                            pd.Series(strings_accr), pd.Series(strings_gar), pd.Series(strings_depo),\n",
        "                            pd.Series(strings_rs), pd.Series(strings_debit), pd.Series(strings_por),\n",
        "              pd.Series(found_entries)], axis = 1)\n",
        "            df.to_excel('df_accr_gar_colab.xlsx')\n",
        "            pd.DataFrame(list_error_files).to_excel('error_files.xlsx', index = False)\n"
      ],
      "execution_count": null,
      "outputs": [
        {
          "output_type": "stream",
          "text": [
            "\r0it [00:00, ?it/s]"
          ],
          "name": "stderr"
        },
        {
          "output_type": "stream",
          "text": [
            "README.md\n",
            "anscombe.json\n",
            "7709382169.pdf\n"
          ],
          "name": "stdout"
        },
        {
          "output_type": "stream",
          "text": [
            "\r3it [04:42, 94.07s/it]"
          ],
          "name": "stderr"
        },
        {
          "output_type": "stream",
          "text": [
            "7709382169\n",
            "[]\n",
            "[]\n",
            "[4]\n",
            "[]\n",
            "7718134701.pdf\n"
          ],
          "name": "stdout"
        },
        {
          "output_type": "stream",
          "text": [
            "\r4it [09:55, 159.79s/it]"
          ],
          "name": "stderr"
        },
        {
          "output_type": "stream",
          "text": [
            "7718134701\n",
            "[]\n",
            "[]\n",
            "[8]\n",
            "[8, 9]\n",
            "7729265128.pdf\n"
          ],
          "name": "stdout"
        },
        {
          "output_type": "stream",
          "text": [
            "\r5it [22:37, 340.46s/it]"
          ],
          "name": "stderr"
        },
        {
          "output_type": "stream",
          "text": [
            "7729265128\n",
            "[]\n",
            "[14, 14, 15]\n",
            "[10, 10, 19, 19, 23, 24]\n",
            "[9, 11, 16, 24, 24, 24, 24, 24, 30]\n",
            "7717016198.pdf\n"
          ],
          "name": "stdout"
        },
        {
          "output_type": "stream",
          "text": [
            "\r6it [30:19, 377.01s/it]"
          ],
          "name": "stderr"
        },
        {
          "output_type": "stream",
          "text": [
            "7717016198\n",
            "[]\n",
            "[17]\n",
            "[19, 25]\n",
            "[]\n",
            "7709239289.pdf\n"
          ],
          "name": "stdout"
        },
        {
          "output_type": "stream",
          "text": [
            "\r7it [39:17, 425.21s/it]"
          ],
          "name": "stderr"
        },
        {
          "output_type": "stream",
          "text": [
            "7709239289\n",
            "[]\n",
            "[]\n",
            "[]\n",
            "[18]\n",
            "7714626332.pdf\n"
          ],
          "name": "stdout"
        },
        {
          "output_type": "stream",
          "text": [
            "\r8it [1:06:30, 787.49s/it]"
          ],
          "name": "stderr"
        },
        {
          "output_type": "stream",
          "text": [
            "7714626332\n",
            "[]\n",
            "[4, 28, 38]\n",
            "[23, 24, 24, 24, 29]\n",
            "[2, 6, 12, 24, 29, 29, 29, 55, 55]\n",
            "7729607406.pdf\n"
          ],
          "name": "stdout"
        },
        {
          "output_type": "stream",
          "text": [
            "\r9it [1:14:31, 695.55s/it]"
          ],
          "name": "stderr"
        },
        {
          "output_type": "stream",
          "text": [
            "7729607406\n",
            "[]\n",
            "[5, 13, 17]\n",
            "[6, 12, 12, 12, 17]\n",
            "[5, 6, 11, 11, 11, 11, 12, 18]\n",
            "7716523950.pdf\n"
          ],
          "name": "stdout"
        },
        {
          "output_type": "stream",
          "text": [
            "\r10it [1:37:29, 900.43s/it]"
          ],
          "name": "stderr"
        },
        {
          "output_type": "stream",
          "text": [
            "7716523950\n",
            "[]\n",
            "[24, 31, 38]\n",
            "[7, 25, 45, 46]\n",
            "[31]\n",
            "7714617793.pdf\n"
          ],
          "name": "stdout"
        },
        {
          "output_type": "stream",
          "text": [
            "\r11it [1:52:43, 904.54s/it]"
          ],
          "name": "stderr"
        },
        {
          "output_type": "stream",
          "text": [
            "7714617793\n",
            "[17, 21]\n",
            "[5, 17, 23]\n",
            "[4, 6, 21, 21, 22, 22]\n",
            "[3, 6, 9, 21, 21, 21, 29]\n",
            "7727232575.pdf\n",
            "7727232575\n",
            "[]\n",
            "[]\n",
            "[]\n",
            "[1, 10, 10]\n"
          ],
          "name": "stdout"
        },
        {
          "output_type": "stream",
          "text": [
            "/usr/local/lib/python3.7/dist-packages/ipykernel_launcher.py:118: DeprecationWarning: The default dtype for empty Series will be 'object' instead of 'float64' in a future version. Specify a dtype explicitly to silence this warning.\n",
            "/usr/local/lib/python3.7/dist-packages/ipykernel_launcher.py:120: DeprecationWarning: The default dtype for empty Series will be 'object' instead of 'float64' in a future version. Specify a dtype explicitly to silence this warning.\n",
            "12it [1:59:29, 754.75s/it]"
          ],
          "name": "stderr"
        },
        {
          "output_type": "stream",
          "text": [
            "7710643591.pdf\n"
          ],
          "name": "stdout"
        },
        {
          "output_type": "stream",
          "text": [
            "/usr/local/lib/python3.7/dist-packages/pdfminer/pdfpage.py:140: PDFTextExtractionNotAllowedWarning: The PDF <_io.BufferedReader name='sample_data/7710643591.pdf'> contains a metadata field indicating that it should not allow text extraction. Ignoring this field and proceeding.\n",
            "  warnings.warn(warning_msg, PDFTextExtractionNotAllowedWarning)\n",
            "13it [2:11:27, 743.80s/it]"
          ],
          "name": "stderr"
        },
        {
          "output_type": "stream",
          "text": [
            "7710643591\n",
            "[]\n",
            "[3, 19]\n",
            "[20, 28]\n",
            "[5]\n",
            "7709840210.PDF\n",
            "pdfminer error Unexpected EOF\n"
          ],
          "name": "stdout"
        },
        {
          "output_type": "stream",
          "text": [
            "\r14it [2:11:30, 521.64s/it]"
          ],
          "name": "stderr"
        },
        {
          "output_type": "stream",
          "text": [
            "error MagickReadImage returns false, but did not raise ImageMagick  exception. This can occur when a delegate is missing, or returns EXIT_SUCCESS without generating a raster.\n",
            "7726059896.pdf\n"
          ],
          "name": "stdout"
        },
        {
          "output_type": "stream",
          "text": [
            "\r15it [2:20:22, 524.63s/it]"
          ],
          "name": "stderr"
        },
        {
          "output_type": "stream",
          "text": [
            "7726059896\n",
            "[]\n",
            "[4]\n",
            "[5, 5]\n",
            "[2, 5, 6, 10, 23]\n",
            "7709219099.pdf\n"
          ],
          "name": "stdout"
        },
        {
          "output_type": "stream",
          "text": [
            "\r16it [2:39:13, 706.77s/it]"
          ],
          "name": "stderr"
        },
        {
          "output_type": "stream",
          "text": [
            "7709219099\n",
            "[]\n",
            "[10, 26, 26, 26]\n",
            "[9, 10]\n",
            "[6, 10, 21, 34]\n",
            "7709756784.pdf\n"
          ],
          "name": "stdout"
        },
        {
          "output_type": "stream",
          "text": [
            "\r17it [2:40:54, 524.79s/it]"
          ],
          "name": "stderr"
        },
        {
          "output_type": "stream",
          "text": [
            "7709756784\n",
            "[]\n",
            "[]\n",
            "[]\n",
            "[]\n",
            "7723025105.pdf\n"
          ],
          "name": "stdout"
        },
        {
          "output_type": "stream",
          "text": [
            "\r18it [2:45:35, 451.65s/it]"
          ],
          "name": "stderr"
        },
        {
          "output_type": "stream",
          "text": [
            "7723025105\n",
            "[]\n",
            "[4, 11, 11]\n",
            "[4, 4, 7, 7, 7]\n",
            "[7, 7, 13]\n",
            "7710601954.PDF\n"
          ],
          "name": "stdout"
        },
        {
          "output_type": "stream",
          "text": [
            "\r19it [2:48:09, 362.56s/it]"
          ],
          "name": "stderr"
        },
        {
          "output_type": "stream",
          "text": [
            "7710601954\n",
            "[]\n",
            "[]\n",
            "[]\n",
            "[4, 4]\n",
            "7720403415.pdf\n"
          ],
          "name": "stdout"
        },
        {
          "output_type": "stream",
          "text": [
            "\r20it [2:57:30, 422.09s/it]"
          ],
          "name": "stderr"
        },
        {
          "output_type": "stream",
          "text": [
            "7720403415\n",
            "[]\n",
            "[]\n",
            "[15]\n",
            "[]\n",
            "7721511903.PDF\n"
          ],
          "name": "stdout"
        },
        {
          "output_type": "stream",
          "text": [
            "\r21it [3:05:04, 431.45s/it]"
          ],
          "name": "stderr"
        },
        {
          "output_type": "stream",
          "text": [
            "7721511903\n",
            "[]\n",
            "[4, 7, 9]\n",
            "[14]\n",
            "[1, 4, 7, 7]\n",
            "7716866347.pdf\n"
          ],
          "name": "stdout"
        },
        {
          "output_type": "stream",
          "text": [
            "\r22it [3:16:39, 510.52s/it]"
          ],
          "name": "stderr"
        },
        {
          "output_type": "stream",
          "text": [
            "7716866347\n",
            "[]\n",
            "[3]\n",
            "[]\n",
            "[]\n",
            "7725610285.pdf\n",
            "7725610285\n",
            "[30]\n",
            "[17]\n",
            "[15, 15, 15, 28, 30, 36]\n",
            "[2, 10, 30, 30, 30, 30]\n"
          ],
          "name": "stdout"
        },
        {
          "output_type": "stream",
          "text": [
            "/usr/local/lib/python3.7/dist-packages/ipykernel_launcher.py:118: DeprecationWarning: The default dtype for empty Series will be 'object' instead of 'float64' in a future version. Specify a dtype explicitly to silence this warning.\n",
            "/usr/local/lib/python3.7/dist-packages/ipykernel_launcher.py:120: DeprecationWarning: The default dtype for empty Series will be 'object' instead of 'float64' in a future version. Specify a dtype explicitly to silence this warning.\n",
            "23it [3:35:42, 700.41s/it]"
          ],
          "name": "stderr"
        },
        {
          "output_type": "stream",
          "text": [
            "7709542704.pdf\n"
          ],
          "name": "stdout"
        },
        {
          "output_type": "stream",
          "text": [
            "\r24it [3:48:31, 720.97s/it]"
          ],
          "name": "stderr"
        },
        {
          "output_type": "stream",
          "text": [
            "7709542704\n",
            "[]\n",
            "[]\n",
            "[]\n",
            "[39]\n",
            "7713140469.pdf\n"
          ],
          "name": "stdout"
        },
        {
          "output_type": "stream",
          "text": [
            "\r25it [3:52:47, 581.52s/it]"
          ],
          "name": "stderr"
        },
        {
          "output_type": "stream",
          "text": [
            "7713140469\n",
            "[]\n",
            "[]\n",
            "[8]\n",
            "[]\n",
            "7716679026.pdf\n"
          ],
          "name": "stdout"
        },
        {
          "output_type": "stream",
          "text": [
            "\r26it [4:24:32, 978.49s/it]"
          ],
          "name": "stderr"
        },
        {
          "output_type": "stream",
          "text": [
            "7716679026\n",
            "[24]\n",
            "[13, 13, 13, 27, 64]\n",
            "[]\n",
            "[9, 71, 71]\n",
            "7717127211.pdf\n"
          ],
          "name": "stdout"
        },
        {
          "output_type": "stream",
          "text": [
            "\r27it [4:31:43, 814.32s/it]"
          ],
          "name": "stderr"
        },
        {
          "output_type": "stream",
          "text": [
            "7717127211\n",
            "[]\n",
            "[]\n",
            "[]\n",
            "[4, 13]\n",
            "7717654289.PDF\n"
          ],
          "name": "stdout"
        },
        {
          "output_type": "stream",
          "text": [
            "\r28it [4:33:35, 603.57s/it]"
          ],
          "name": "stderr"
        },
        {
          "output_type": "stream",
          "text": [
            "7717654289\n",
            "[]\n",
            "[]\n",
            "[]\n",
            "[]\n",
            "7715729877.pdf\n",
            "pdfminer error Unsupported revision: param={'CF': {'StdCF': {'AuthEvent': /'DocOpen', 'CFM': /'AESV3', 'Length': 32}}, 'Filter': /'Standard', 'Length': 256, 'O': b'\\x9fc#\\xd4\\x86\\ty\\x80\\n\\xa1k\\xa9\\x9f&]\\x03\\x1b\\xb9\\xeb8Y\\xa6g\\x8bO\\xf2\\xda\\xbf3\\xb2\\xae\\xf6`\\xdc\\xc2\\x13Ys\\xd4\\x93\\xbd\\xce!\\\\f\\xab\\xe8\\x10\\x00\\x00\\x00\\x00\\x00\\x00\\x00\\x00\\x00\\x00\\x00\\x00\\x00\\x00\\x00\\x00\\x00\\x00\\x00\\x00\\x00\\x00\\x00\\x00\\x00\\x00\\x00\\x00\\x00\\x00\\x00\\x00\\x00\\x00\\x00\\x00\\x00\\x00\\x00\\x00\\x00\\x00\\x00\\x00\\x00\\x00\\x00\\x00\\x00\\x00\\x00\\x00\\x00\\x00\\x00\\x00\\x00\\x00\\x00\\x00\\x00\\x00\\x00\\x00\\x00\\x00\\x00\\x00\\x00\\x00\\x00\\x00\\x00\\x00\\x00\\x00\\x00\\x00\\x00', 'OE': b'\\\\U\\xe1\\x0b_&P\\xf1:\"\\xb4\\x86\\xda(\\xf2\\xd4\\x881\\x8ebw\\x07\\x8e\\n\\xa2NN\\xa1\\xf6\\x8e$\\xa4', 'P': -1340, 'Perms': b'\\rI\\xc8!\\xb4+\\xdd<v[\\xb9\\xa9\\x12^3B', 'R': 6, 'StmF': /'StdCF', 'StrF': /'StdCF', 'U': b')\\xb7\\x85\\xe9\\x04ns\\x9e\\xd96\\x84\\xb4\\xbc\\xbft$\\xa8\\x8dR\\xd7\\xee$\\xd1m\\xfe\\xc3\\x8fA\\xf3\\x9d\\x18\\xb1\\xd6\\xedP\\xae\\x0e\\xc6{f\\xdff\\xdd5\\xc2\\xb4\\x130\\x00\\x00\\x00\\x00\\x00\\x00\\x00\\x00\\x00\\x00\\x00\\x00\\x00\\x00\\x00\\x00\\x00\\x00\\x00\\x00\\x00\\x00\\x00\\x00\\x00\\x00\\x00\\x00\\x00\\x00\\x00\\x00\\x00\\x00\\x00\\x00\\x00\\x00\\x00\\x00\\x00\\x00\\x00\\x00\\x00\\x00\\x00\\x00\\x00\\x00\\x00\\x00\\x00\\x00\\x00\\x00\\x00\\x00\\x00\\x00\\x00\\x00\\x00\\x00\\x00\\x00\\x00\\x00\\x00\\x00\\x00\\x00\\x00\\x00\\x00\\x00\\x00\\x00\\x00', 'UE': b'5\\xb7\\xc0\\x9a\\xb9\\xe2\\x92\\xeed\\xda\\xd6e\\xc56\\xf5v\\xa8\\xc3\\xe5\\xb1\\xcc\\xa4\\x8b1\\xfc\\x94\\xe8S\\x05m\\xfb\\xc4', 'V': 5}\n"
          ],
          "name": "stdout"
        },
        {
          "output_type": "stream",
          "text": [
            "\r29it [4:47:35, 674.44s/it]"
          ],
          "name": "stderr"
        },
        {
          "output_type": "stream",
          "text": [
            "7715729877\n",
            "[]\n",
            "[1, 2, 3, 20, 21, 21, 34, 37]\n",
            "[25]\n",
            "[5, 26, 26, 26]\n",
            "7715568411.pdf\n"
          ],
          "name": "stdout"
        },
        {
          "output_type": "stream",
          "text": [
            "\r30it [5:38:28, 1388.04s/it]"
          ],
          "name": "stderr"
        },
        {
          "output_type": "stream",
          "text": [
            "7715568411\n",
            "[]\n",
            "[32, 32, 32, 32, 32, 33, 33, 33, 33, 33, 33, 33, 33, 33, 33, 33, 34, 34, 34, 34, 34, 34, 34, 34, 34, 34, 34, 35, 50, 50, 50, 52, 52, 53, 53, 53, 53, 53, 53, 54, 54, 54, 54, 54, 54, 54, 54, 54, 54, 55, 55, 55, 55, 55, 55, 55, 55, 55, 55, 55, 55, 55, 55, 55, 56, 56, 56, 56, 56, 56, 56, 56, 67, 72, 73, 73, 73, 73, 73, 76, 76, 76, 78, 78, 78, 80, 102, 138, 139, 139, 139, 140, 140, 140, 140, 140, 140, 140, 141, 141, 142, 142, 142, 142, 142, 142, 142, 143, 143, 143, 143, 143, 143, 144, 144, 145]\n",
            "[7, 48, 48, 53, 95, 95, 96]\n",
            "[62, 65, 65, 112, 128, 129]\n",
            "7710293280.pdf\n",
            "pdfminer error Unsupported revision: param={'CF': {'StdCF': {'AuthEvent': /'DocOpen', 'CFM': /'AESV3', 'Length': 32}}, 'Filter': /'Standard', 'Length': 256, 'O': b'\\xb6\\x9d\\\\\\xacB\\xa0\\x1e\\xe5\\xc0kO\\xd4\\x0b\\x8e\\xdf\\xfdr.\\xeeB\\xce\\x9d\\n,~9~\\x95\\x1ev\\x1d5\\xc2\\x8b\\xf7\\xd6pW\\x967\\xe3\\x82]i\\xb6x\\x9e\\xf7\\x00\\x00\\x00\\x00\\x00\\x00\\x00\\x00\\x00\\x00\\x00\\x00\\x00\\x00\\x00\\x00\\x00\\x00\\x00\\x00\\x00\\x00\\x00\\x00\\x00\\x00\\x00\\x00\\x00\\x00\\x00\\x00\\x00\\x00\\x00\\x00\\x00\\x00\\x00\\x00\\x00\\x00\\x00\\x00\\x00\\x00\\x00\\x00\\x00\\x00\\x00\\x00\\x00\\x00\\x00\\x00\\x00\\x00\\x00\\x00\\x00\\x00\\x00\\x00\\x00\\x00\\x00\\x00\\x00\\x00\\x00\\x00\\x00\\x00\\x00\\x00\\x00\\x00\\x00', 'OE': b'\\xb1\\xc3\\xdcE\\x06\\xe4\\xc7$\\xffy\\x96#\\x89\\x18j\\xba9\\x85\\x15\\x06\\xe24\\x9f\\xec\\x1f&\\x04r\\xe93.P', 'P': -1340, 'Perms': b'\\xb9\\xb0]$\\xb2\\xb8\\xfcx\\r\\xff\\xc9\\xe3~\\xf9!\\x1c', 'R': 6, 'StmF': /'StdCF', 'StrF': /'StdCF', 'U': b'J\\x1f! V\\x03\\xe3\\xa2\\x97Q\\x00\\xbf@\\t#^C&\\xe99\\x1c\\x00\\xd1\\x0f\\x1eo\\x1a):\\x05\\xc69\\x7f\\xc0H\\xc4S\\x9c\\xd0\\xaaqO\\xb4_\\xf7\\t\\xf7\\x86\\x00\\x00\\x00\\x00\\x00\\x00\\x00\\x00\\x00\\x00\\x00\\x00\\x00\\x00\\x00\\x00\\x00\\x00\\x00\\x00\\x00\\x00\\x00\\x00\\x00\\x00\\x00\\x00\\x00\\x00\\x00\\x00\\x00\\x00\\x00\\x00\\x00\\x00\\x00\\x00\\x00\\x00\\x00\\x00\\x00\\x00\\x00\\x00\\x00\\x00\\x00\\x00\\x00\\x00\\x00\\x00\\x00\\x00\\x00\\x00\\x00\\x00\\x00\\x00\\x00\\x00\\x00\\x00\\x00\\x00\\x00\\x00\\x00\\x00\\x00\\x00\\x00\\x00\\x00', 'UE': b'\\x08\\x8584\\xcb\\xadEo\\xe2q\\xcfC\\x84\\x9dFVW\\xd2\\xd7/\\xd5h\\xf1M\\xed\\xdf\\xd6\\x14_\\xe3\\xd2\\xd9', 'V': 5}\n"
          ],
          "name": "stdout"
        },
        {
          "output_type": "stream",
          "text": [
            "\r31it [5:57:24, 1312.54s/it]"
          ],
          "name": "stderr"
        },
        {
          "output_type": "stream",
          "text": [
            "7710293280\n",
            "[]\n",
            "[1, 2, 3, 24, 33, 34, 45, 45, 47]\n",
            "[23, 27, 34, 34, 35]\n",
            "[6, 17, 23, 32, 34, 44]\n",
            "7727344230.pdf\n"
          ],
          "name": "stdout"
        },
        {
          "output_type": "stream",
          "text": [
            "\r32it [6:05:40, 1067.44s/it]"
          ],
          "name": "stderr"
        },
        {
          "output_type": "stream",
          "text": [
            "7727344230\n",
            "[]\n",
            "[9]\n",
            "[9, 9, 13, 14]\n",
            "[2, 9]\n",
            "7709825967.PDF\n",
            "7709825967\n",
            "[52]\n",
            "[67, 68]\n",
            "[14, 52]\n",
            "[52, 52, 52]\n"
          ],
          "name": "stdout"
        },
        {
          "output_type": "stream",
          "text": [
            "/usr/local/lib/python3.7/dist-packages/ipykernel_launcher.py:118: DeprecationWarning: The default dtype for empty Series will be 'object' instead of 'float64' in a future version. Specify a dtype explicitly to silence this warning.\n",
            "/usr/local/lib/python3.7/dist-packages/ipykernel_launcher.py:120: DeprecationWarning: The default dtype for empty Series will be 'object' instead of 'float64' in a future version. Specify a dtype explicitly to silence this warning.\n",
            "33it [6:28:30, 1158.23s/it]"
          ],
          "name": "stderr"
        },
        {
          "output_type": "stream",
          "text": [
            "7709356049.PDF\n"
          ],
          "name": "stdout"
        },
        {
          "output_type": "stream",
          "text": [
            "\r34it [6:38:34, 992.00s/it] "
          ],
          "name": "stderr"
        },
        {
          "output_type": "stream",
          "text": [
            "7709356049\n",
            "[]\n",
            "[5, 8, 9]\n",
            "[]\n",
            "[6, 13, 13, 13, 13, 13, 17, 18]\n",
            "7717108843.pdf\n"
          ],
          "name": "stdout"
        }
      ]
    },
    {
      "cell_type": "code",
      "metadata": {
        "id": "0xQixjKqPbnQ"
      },
      "source": [
        "df = pd.concat([pd.Series(found_inn), pd.Series(found_file) , pd.Series(found_accr), \n",
        "                            pd.Series(found_gar), pd.Series(found_depo), \n",
        "                            pd.Series(found_rs), pd.Series(found_debit), pd.Series(found_por),\n",
        "                            pd.Series(pages_accr), pd.Series(pages_gar), pd.Series(pages_depo),\n",
        "                            pd.Series(pages_rs), pd.Series(pages_debit), pd.Series(pages_por),\n",
        "                            pd.Series(strings_accr), pd.Series(strings_gar), pd.Series(strings_depo),\n",
        "                            pd.Series(strings_rs), pd.Series(strings_debit), pd.Series(strings_por),\n",
        "              pd.Series(found_entries)], axis = 1)\n",
        "df"
      ],
      "execution_count": null,
      "outputs": []
    },
    {
      "cell_type": "code",
      "metadata": {
        "id": "zYbjzl5c7ZZE",
        "colab": {
          "base_uri": "https://localhost:8080/"
        },
        "outputId": "29a2e229-1405-4356-b193-3411c4373cb4"
      },
      "source": [
        "df = pd.concat([pd.Series(found_inn), pd.Series(found_file) , pd.Series(found_accr), \n",
        "                            pd.Series(found_gar), pd.Series(found_depo), \n",
        "                            pd.Series(found_rs), pd.Series(found_debit), pd.Series(found_por),\n",
        "                            pd.Series(pages_accr), pd.Series(pages_gar), pd.Series(pages_depo),\n",
        "                            pd.Series(pages_rs), pd.Series(pages_debit), pd.Series(pages_por),\n",
        "                            pd.Series(strings_accr), pd.Series(strings_gar), pd.Series(strings_depo),\n",
        "                            pd.Series(strings_rs), pd.Series(strings_debit), pd.Series(strings_por),\n",
        "              pd.Series(found_entries)], axis = 1)\n",
        "df.to_excel('/content/drive/MyDrive/rsbu/df_accr_gar_25.xlsx')\n",
        "pd.DataFrame(list_error_files).to_excel('/content/drive/MyDrive/rsbu/error_files.xlsx', index = False)"
      ],
      "execution_count": null,
      "outputs": [
        {
          "output_type": "stream",
          "text": [
            "/usr/local/lib/python3.7/dist-packages/ipykernel_launcher.py:3: DeprecationWarning: The default dtype for empty Series will be 'object' instead of 'float64' in a future version. Specify a dtype explicitly to silence this warning.\n",
            "  This is separate from the ipykernel package so we can avoid doing imports until\n",
            "/usr/local/lib/python3.7/dist-packages/ipykernel_launcher.py:5: DeprecationWarning: The default dtype for empty Series will be 'object' instead of 'float64' in a future version. Specify a dtype explicitly to silence this warning.\n",
            "  \"\"\"\n",
            "/usr/local/lib/python3.7/dist-packages/ipykernel_launcher.py:7: DeprecationWarning: The default dtype for empty Series will be 'object' instead of 'float64' in a future version. Specify a dtype explicitly to silence this warning.\n",
            "  import sys\n"
          ],
          "name": "stderr"
        }
      ]
    },
    {
      "cell_type": "code",
      "metadata": {
        "id": "d5Q3iAPyFWZ2"
      },
      "source": [
        "df"
      ],
      "execution_count": null,
      "outputs": []
    }
  ]
}